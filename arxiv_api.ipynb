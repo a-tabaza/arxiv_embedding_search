{
 "cells": [
  {
   "cell_type": "code",
   "execution_count": 2,
   "metadata": {},
   "outputs": [],
   "source": [
    "import urllib.request as libreq"
   ]
  },
  {
   "cell_type": "code",
   "execution_count": 3,
   "metadata": {},
   "outputs": [],
   "source": [
    "with libreq.urlopen('http://export.arxiv.org/api/query?id_list=1911.01145') as url:\n",
    "    r = url.read()"
   ]
  },
  {
   "cell_type": "code",
   "execution_count": 4,
   "metadata": {},
   "outputs": [
    {
     "name": "stdout",
     "output_type": "stream",
     "text": [
      "b'<?xml version=\"1.0\" encoding=\"UTF-8\"?>\\n<feed xmlns=\"http://www.w3.org/2005/Atom\">\\n  <link href=\"http://arxiv.org/api/query?search_query%3D%26id_list%3D1911.01145%26start%3D0%26max_results%3D10\" rel=\"self\" type=\"application/atom+xml\"/>\\n  <title type=\"html\">ArXiv Query: search_query=&amp;id_list=1911.01145&amp;start=0&amp;max_results=10</title>\\n  <id>http://arxiv.org/api/pENm/yDG/Lk3gaWWUKz3Y1fvz1o</id>\\n  <updated>2024-02-14T00:00:00-05:00</updated>\\n  <opensearch:totalResults xmlns:opensearch=\"http://a9.com/-/spec/opensearch/1.1/\">1</opensearch:totalResults>\\n  <opensearch:startIndex xmlns:opensearch=\"http://a9.com/-/spec/opensearch/1.1/\">0</opensearch:startIndex>\\n  <opensearch:itemsPerPage xmlns:opensearch=\"http://a9.com/-/spec/opensearch/1.1/\">10</opensearch:itemsPerPage>\\n  <entry>\\n    <id>http://arxiv.org/abs/1911.01145v5</id>\\n    <updated>2020-08-03T09:18:18Z</updated>\\n    <published>2019-11-04T11:53:33Z</published>\\n    <title>Minimum Cut in $O(m\\\\log^2 n)$ Time</title>\\n    <summary>  We give a randomized algorithm that finds a minimum cut in an undirected\\nweighted $m$-edge $n$-vertex graph $G$ with high probability in $O(m \\\\log^2 n)$\\ntime. This is the first improvement to Karger\\'s celebrated $O(m \\\\log^3 n)$ time\\nalgorithm from 1996. Our main technical contribution is a deterministic $O(m\\n\\\\log n)$ time algorithm that, given a spanning tree $T$ of $G$, finds a minimum\\ncut of $G$ that 2-respects (cuts two edges of) $T$.\\n</summary>\\n    <author>\\n      <name>Pawe\\xc5\\x82 Gawrychowski</name>\\n    </author>\\n    <author>\\n      <name>Shay Mozes</name>\\n    </author>\\n    <author>\\n      <name>Oren Weimann</name>\\n    </author>\\n    <link href=\"http://arxiv.org/abs/1911.01145v5\" rel=\"alternate\" type=\"text/html\"/>\\n    <link title=\"pdf\" href=\"http://arxiv.org/pdf/1911.01145v5\" rel=\"related\" type=\"application/pdf\"/>\\n    <arxiv:primary_category xmlns:arxiv=\"http://arxiv.org/schemas/atom\" term=\"cs.DS\" scheme=\"http://arxiv.org/schemas/atom\"/>\\n    <category term=\"cs.DS\" scheme=\"http://arxiv.org/schemas/atom\"/>\\n  </entry>\\n</feed>\\n'\n"
     ]
    }
   ],
   "source": [
    "print(r)"
   ]
  },
  {
   "cell_type": "code",
   "execution_count": 5,
   "metadata": {},
   "outputs": [],
   "source": [
    "import xml.etree.ElementTree as ET"
   ]
  },
  {
   "cell_type": "code",
   "execution_count": 10,
   "metadata": {},
   "outputs": [],
   "source": [
    "root = ET.fromstring(r)"
   ]
  },
  {
   "cell_type": "code",
   "execution_count": 26,
   "metadata": {},
   "outputs": [
    {
     "data": {
      "text/plain": [
       "<Element '{http://www.w3.org/2005/Atom}entry' at 0x0000015CDA204BD0>"
      ]
     },
     "execution_count": 26,
     "metadata": {},
     "output_type": "execute_result"
    }
   ],
   "source": [
    "root.findall(\".//{http://www.w3.org/2005/Atom}entry\")[0]"
   ]
  },
  {
   "cell_type": "code",
   "execution_count": 27,
   "metadata": {},
   "outputs": [
    {
     "name": "stdout",
     "output_type": "stream",
     "text": [
      "{http://www.w3.org/2005/Atom}id {}\n",
      "{http://www.w3.org/2005/Atom}updated {}\n",
      "{http://www.w3.org/2005/Atom}published {}\n",
      "{http://www.w3.org/2005/Atom}title {}\n",
      "{http://www.w3.org/2005/Atom}summary {}\n",
      "{http://www.w3.org/2005/Atom}author {}\n",
      "{http://www.w3.org/2005/Atom}author {}\n",
      "{http://www.w3.org/2005/Atom}author {}\n",
      "{http://www.w3.org/2005/Atom}link {'href': 'http://arxiv.org/abs/1911.01145v5', 'rel': 'alternate', 'type': 'text/html'}\n",
      "{http://www.w3.org/2005/Atom}link {'title': 'pdf', 'href': 'http://arxiv.org/pdf/1911.01145v5', 'rel': 'related', 'type': 'application/pdf'}\n",
      "{http://arxiv.org/schemas/atom}primary_category {'term': 'cs.DS', 'scheme': 'http://arxiv.org/schemas/atom'}\n",
      "{http://www.w3.org/2005/Atom}category {'term': 'cs.DS', 'scheme': 'http://arxiv.org/schemas/atom'}\n"
     ]
    }
   ],
   "source": [
    "for child in root.findall(\".//{http://www.w3.org/2005/Atom}entry\")[0]:\n",
    "    print(child.tag, child.attrib)"
   ]
  },
  {
   "cell_type": "code",
   "execution_count": 29,
   "metadata": {},
   "outputs": [],
   "source": [
    "import feedparser"
   ]
  },
  {
   "cell_type": "code",
   "execution_count": 30,
   "metadata": {},
   "outputs": [],
   "source": [
    "d = feedparser.parse(r)"
   ]
  },
  {
   "cell_type": "code",
   "execution_count": 35,
   "metadata": {},
   "outputs": [
    {
     "data": {
      "text/plain": [
       "'Minimum Cut in $O(m\\\\log^2 n)$ Time'"
      ]
     },
     "execution_count": 35,
     "metadata": {},
     "output_type": "execute_result"
    }
   ],
   "source": [
    "d.entries[0][\"title\"]"
   ]
  },
  {
   "cell_type": "code",
   "execution_count": 36,
   "metadata": {},
   "outputs": [
    {
     "data": {
      "text/plain": [
       "\"We give a randomized algorithm that finds a minimum cut in an undirected\\nweighted $m$-edge $n$-vertex graph $G$ with high probability in $O(m \\\\log^2 n)$\\ntime. This is the first improvement to Karger's celebrated $O(m \\\\log^3 n)$ time\\nalgorithm from 1996. Our main technical contribution is a deterministic $O(m\\n\\\\log n)$ time algorithm that, given a spanning tree $T$ of $G$, finds a minimum\\ncut of $G$ that 2-respects (cuts two edges of) $T$.\""
      ]
     },
     "execution_count": 36,
     "metadata": {},
     "output_type": "execute_result"
    }
   ],
   "source": [
    "d.entries[0][\"summary\"]"
   ]
  },
  {
   "cell_type": "code",
   "execution_count": null,
   "metadata": {},
   "outputs": [],
   "source": []
  }
 ],
 "metadata": {
  "kernelspec": {
   "display_name": "venv",
   "language": "python",
   "name": "python3"
  },
  "language_info": {
   "codemirror_mode": {
    "name": "ipython",
    "version": 3
   },
   "file_extension": ".py",
   "mimetype": "text/x-python",
   "name": "python",
   "nbconvert_exporter": "python",
   "pygments_lexer": "ipython3",
   "version": "3.11.3"
  }
 },
 "nbformat": 4,
 "nbformat_minor": 2
}
